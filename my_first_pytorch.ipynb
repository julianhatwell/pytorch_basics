{
 "cells": [
  {
   "cell_type": "code",
   "execution_count": 1,
   "metadata": {},
   "outputs": [],
   "source": [
    "from __future__ import print_function\n",
    "import torch\n",
    "import numpy as np"
   ]
  },
  {
   "cell_type": "code",
   "execution_count": 2,
   "metadata": {},
   "outputs": [
    {
     "name": "stdout",
     "output_type": "stream",
     "text": [
      "tensor([[1.6114e-19, 1.6020e-19, 4.4721e+21],\n",
      "        [7.3840e+22, 1.3513e-14, 1.4917e-07],\n",
      "        [4.4859e+21, 7.2150e+22, 2.4501e-09],\n",
      "        [7.5553e+28, 5.2839e-11, 1.8888e+31],\n",
      "        [4.7414e+16, 3.1434e-12, 8.0775e+17]])\n"
     ]
    }
   ],
   "source": [
    "# uninitialised - whatever values were in allocated memory space\n",
    "x = torch.empty(5, 3)\n",
    "print(x)"
   ]
  },
  {
   "cell_type": "code",
   "execution_count": 3,
   "metadata": {},
   "outputs": [
    {
     "name": "stdout",
     "output_type": "stream",
     "text": [
      "tensor([[0.5922, 0.8318, 0.5801],\n",
      "        [0.2195, 0.0899, 0.5676],\n",
      "        [0.5548, 0.7034, 0.1194],\n",
      "        [0.7668, 0.2635, 0.5656],\n",
      "        [0.3792, 0.1629, 0.0463]])\n"
     ]
    }
   ],
   "source": [
    "# initialise with random values\n",
    "x = torch.rand(5, 3)\n",
    "print(x)"
   ]
  },
  {
   "cell_type": "code",
   "execution_count": 4,
   "metadata": {},
   "outputs": [
    {
     "name": "stdout",
     "output_type": "stream",
     "text": [
      "tensor([[0, 0, 0],\n",
      "        [0, 0, 0],\n",
      "        [0, 0, 0],\n",
      "        [0, 0, 0],\n",
      "        [0, 0, 0]])\n"
     ]
    }
   ],
   "source": [
    "# initialise with zeroes\n",
    "x = torch.zeros(5, 3, dtype=torch.long)\n",
    "print(x)"
   ]
  },
  {
   "cell_type": "code",
   "execution_count": 5,
   "metadata": {},
   "outputs": [
    {
     "name": "stdout",
     "output_type": "stream",
     "text": [
      "tensor([5.5000, 3.0000])\n"
     ]
    }
   ],
   "source": [
    "# initialise with values\n",
    "x = torch.tensor([5.5, 3])\n",
    "print(x)"
   ]
  },
  {
   "cell_type": "code",
   "execution_count": 6,
   "metadata": {},
   "outputs": [
    {
     "name": "stdout",
     "output_type": "stream",
     "text": [
      "tensor([[1., 1., 1.],\n",
      "        [1., 1., 1.],\n",
      "        [1., 1., 1.],\n",
      "        [1., 1., 1.],\n",
      "        [1., 1., 1.]], dtype=torch.float64)\n",
      "tensor([[-2.4618,  1.3332, -0.2531],\n",
      "        [-0.8700,  0.6896,  0.1206],\n",
      "        [ 0.6153,  0.0836, -1.2130],\n",
      "        [ 0.2980,  1.1290, -1.2683],\n",
      "        [-0.9311,  0.4512, -1.1898]])\n"
     ]
    }
   ],
   "source": [
    "# set new values\n",
    "x = x.new_ones(5, 3, dtype=torch.double)      # new_* methods take in sizes\n",
    "print(x)\n",
    "\n",
    "# set new values\n",
    "x = torch.randn_like(x, dtype=torch.float)    # override dtype!\n",
    "print(x)  "
   ]
  },
  {
   "cell_type": "code",
   "execution_count": 7,
   "metadata": {},
   "outputs": [
    {
     "name": "stdout",
     "output_type": "stream",
     "text": [
      "torch.Size([5, 3])\n"
     ]
    }
   ],
   "source": [
    "print(x.size())\n",
    "# torch.Size supports tuple operations"
   ]
  },
  {
   "cell_type": "code",
   "execution_count": 8,
   "metadata": {},
   "outputs": [
    {
     "name": "stdout",
     "output_type": "stream",
     "text": [
      "tensor([[-2.0390,  1.6890,  0.3668],\n",
      "        [-0.7056,  1.4961,  0.8660],\n",
      "        [ 1.1193,  0.4506, -0.9222],\n",
      "        [ 1.0786,  1.8128, -0.9953],\n",
      "        [-0.4143,  0.6955, -0.9902]])\n",
      "tensor([[-2.0390,  1.6890,  0.3668],\n",
      "        [-0.7056,  1.4961,  0.8660],\n",
      "        [ 1.1193,  0.4506, -0.9222],\n",
      "        [ 1.0786,  1.8128, -0.9953],\n",
      "        [-0.4143,  0.6955, -0.9902]])\n",
      "tensor([[-2.0390,  1.6890,  0.3668],\n",
      "        [-0.7056,  1.4961,  0.8660],\n",
      "        [ 1.1193,  0.4506, -0.9222],\n",
      "        [ 1.0786,  1.8128, -0.9953],\n",
      "        [-0.4143,  0.6955, -0.9902]])\n"
     ]
    }
   ],
   "source": [
    "# three different ways to add tensors\n",
    "y = torch.rand(5, 3)\n",
    "print(x + y)\n",
    "print(torch.add(x, y))\n",
    "result = torch.empty(5, 3)\n",
    "torch.add(x, y, out=result)\n",
    "print(result)"
   ]
  },
  {
   "cell_type": "code",
   "execution_count": 9,
   "metadata": {},
   "outputs": [
    {
     "name": "stdout",
     "output_type": "stream",
     "text": [
      "tensor([[-2.0390,  1.6890,  0.3668],\n",
      "        [-0.7056,  1.4961,  0.8660],\n",
      "        [ 1.1193,  0.4506, -0.9222],\n",
      "        [ 1.0786,  1.8128, -0.9953],\n",
      "        [-0.4143,  0.6955, -0.9902]])\n",
      "tensor([[-4.5009,  3.0222,  0.1137],\n",
      "        [-1.5756,  2.1857,  0.9866],\n",
      "        [ 1.7346,  0.5342, -2.1351],\n",
      "        [ 1.3766,  2.9418, -2.2636],\n",
      "        [-1.3454,  1.1467, -2.1800]])\n"
     ]
    }
   ],
   "source": [
    "# also adding in place\n",
    "y.add_(x)\n",
    "print(y)\n",
    "y.add_(x)\n",
    "print(y)"
   ]
  },
  {
   "cell_type": "code",
   "execution_count": 10,
   "metadata": {},
   "outputs": [
    {
     "name": "stdout",
     "output_type": "stream",
     "text": [
      "tensor([1.3332, 0.6896, 0.0836, 1.1290, 0.4512])\n"
     ]
    }
   ],
   "source": [
    "# numpy style indexing\n",
    "print(x[:, 1])"
   ]
  },
  {
   "cell_type": "code",
   "execution_count": 11,
   "metadata": {},
   "outputs": [
    {
     "name": "stdout",
     "output_type": "stream",
     "text": [
      "torch.Size([4, 4]) torch.Size([16]) torch.Size([2, 8])\n"
     ]
    }
   ],
   "source": [
    "# reshaping\n",
    "x = torch.randn(4, 4)\n",
    "y = x.view(16)\n",
    "z = x.view(-1, 8)  # the size -1 is inferred from other dimensions\n",
    "print(x.size(), y.size(), z.size())"
   ]
  },
  {
   "cell_type": "code",
   "execution_count": 12,
   "metadata": {},
   "outputs": [
    {
     "name": "stdout",
     "output_type": "stream",
     "text": [
      "tensor([-0.7682])\n",
      "-0.7681997418403625\n"
     ]
    }
   ],
   "source": [
    "# extract a scalar value\n",
    "x = torch.randn(1)\n",
    "print(x)\n",
    "print(x.item())"
   ]
  },
  {
   "cell_type": "code",
   "execution_count": 13,
   "metadata": {},
   "outputs": [
    {
     "name": "stdout",
     "output_type": "stream",
     "text": [
      "tensor([1., 1., 1., 1., 1.])\n",
      "[1. 1. 1. 1. 1.]\n",
      "tensor([2., 2., 2., 2., 2.])\n",
      "[2. 2. 2. 2. 2.]\n"
     ]
    }
   ],
   "source": [
    "# bridge to numpy - note that memory is shared\n",
    "a = torch.ones(5)\n",
    "print(a)\n",
    "b = a.numpy()\n",
    "print(b)\n",
    "a.add_(1)\n",
    "print(a)\n",
    "print(b)"
   ]
  },
  {
   "cell_type": "code",
   "execution_count": 14,
   "metadata": {},
   "outputs": [
    {
     "name": "stdout",
     "output_type": "stream",
     "text": [
      "[2. 2. 2. 2. 2.]\n",
      "tensor([2., 2., 2., 2., 2.], dtype=torch.float64)\n"
     ]
    }
   ],
   "source": [
    "a = np.ones(5)\n",
    "b = torch.from_numpy(a)\n",
    "np.add(a, 1, out=a)\n",
    "print(a)\n",
    "print(b)"
   ]
  },
  {
   "cell_type": "code",
   "execution_count": 15,
   "metadata": {},
   "outputs": [
    {
     "name": "stdout",
     "output_type": "stream",
     "text": [
      "True\n",
      "tensor([0.2318], device='cuda:0')\n",
      "tensor([0.2318], dtype=torch.float64)\n"
     ]
    }
   ],
   "source": [
    "# executing in the GPU\n",
    "print(torch.cuda.is_available())\n",
    "\n",
    "# We will use ``torch.device`` objects to move tensors in and out of GPU\n",
    "if torch.cuda.is_available():\n",
    "    device = torch.device(\"cuda\")          # a CUDA device object\n",
    "    y = torch.ones_like(x, device=device)  # directly create a tensor on GPU\n",
    "    x = x.to(device)                       # or just use strings ``.to(\"cuda\")``\n",
    "    z = x + y\n",
    "    print(z)\n",
    "    print(z.to(\"cpu\", torch.double))       # ``.to`` can also change dtype together!"
   ]
  },
  {
   "cell_type": "code",
   "execution_count": null,
   "metadata": {},
   "outputs": [],
   "source": []
  }
 ],
 "metadata": {
  "kernelspec": {
   "display_name": "Python 3",
   "language": "python",
   "name": "python3"
  },
  "language_info": {
   "codemirror_mode": {
    "name": "ipython",
    "version": 3
   },
   "file_extension": ".py",
   "mimetype": "text/x-python",
   "name": "python",
   "nbconvert_exporter": "python",
   "pygments_lexer": "ipython3",
   "version": "3.6.7"
  }
 },
 "nbformat": 4,
 "nbformat_minor": 2
}
