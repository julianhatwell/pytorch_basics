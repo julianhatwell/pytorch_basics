{
 "cells": [
  {
   "cell_type": "markdown",
   "metadata": {},
   "source": [
    "https://www.kaggle.com/kanncaa1/deep-learning-tutorial-for-beginners"
   ]
  },
  {
   "cell_type": "code",
   "execution_count": 13,
   "metadata": {},
   "outputs": [
    {
     "name": "stdout",
     "output_type": "stream",
     "text": [
      "X.npy\n",
      "Y.npy\n",
      "\n"
     ]
    }
   ],
   "source": [
    "import numpy as np # linear algebra\n",
    "import pandas as pd # data processing, CSV file I/O (e.g. pd.read_csv)\n",
    "import matplotlib.pyplot as plt\n",
    "from sklearn.model_selection import train_test_split\n",
    "from sklearn import linear_model\n",
    "\n",
    "import warnings\n",
    "warnings.filterwarnings('ignore')\n",
    "\n",
    "# import os\n",
    "# print(os.listdir(\"./data/kaggle2\"))\n",
    "\n",
    "from subprocess import check_output\n",
    "print(check_output([\"ls\", \"./data/kaggle2\"]).decode(\"utf8\"))"
   ]
  },
  {
   "cell_type": "code",
   "execution_count": 14,
   "metadata": {},
   "outputs": [
    {
     "data": {
      "image/png": "[encoded data removed]",
      "text/plain": [
       "<Figure size 432x288 with 2 Axes>"
      ]
     },
     "metadata": {
      "needs_background": "light"
     },
     "output_type": "display_data"
    }
   ],
   "source": [
    "# load data set\n",
    "x_l = np.load(\"./data/kaggle2/X.npy\")\n",
    "Y_l = np.load(\"./data/kaggle2/Y.npy\")\n",
    "img_size = 64\n",
    "plt.subplot(1, 2, 1)\n",
    "plt.imshow(x_l[260].reshape(img_size, img_size))\n",
    "plt.axis('off')\n",
    "plt.subplot(1, 2, 2)\n",
    "plt.imshow(x_l[900].reshape(img_size, img_size))\n",
    "plt.axis('off')\n",
    "plt.show()\n",
    "# You are looking at examples of zero and one signing"
   ]
  },
  {
   "cell_type": "code",
   "execution_count": 15,
   "metadata": {},
   "outputs": [
    {
     "name": "stdout",
     "output_type": "stream",
     "text": [
      "X shape:  (410, 64, 64)\n",
      "Y shape:  (410, 1)\n"
     ]
    }
   ],
   "source": [
    "# Create a sequence of images from the zero and one signing examples.\n",
    "X = np.concatenate((x_l[204:409], x_l[822:1027] ), axis=0) \n",
    "# in the new array, from 0 to 204 is zero sign and from 205 to 410 is one sign \n",
    "z = np.zeros(205)\n",
    "o = np.ones(205)\n",
    "Y = np.concatenate((z, o), axis=0).reshape(X.shape[0],1)\n",
    "print(\"X shape: \" , X.shape)\n",
    "print(\"Y shape: \" , Y.shape)\n",
    "# 410 images of 64*64 pixels"
   ]
  },
  {
   "cell_type": "code",
   "execution_count": 4,
   "metadata": {},
   "outputs": [
    {
     "name": "stdout",
     "output_type": "stream",
     "text": [
      "X train flatten (348, 4096)\n",
      "X test flatten (62, 4096)\n",
      "x train:  (4096, 348)\n",
      "x test:  (4096, 62)\n",
      "y train:  (1, 348)\n",
      "y test:  (1, 62)\n"
     ]
    }
   ],
   "source": [
    "# the usual splits\n",
    "X_train, X_test, Y_train, Y_test = train_test_split(X, Y, test_size=0.15, random_state=42)\n",
    "number_of_train = X_train.shape[0]\n",
    "number_of_test = X_test.shape[0]\n",
    "\n",
    "# reshape the images to vectors\n",
    "X_train_flatten = X_train.reshape(number_of_train,X_train.shape[1]*X_train.shape[2])\n",
    "X_test_flatten = X_test .reshape(number_of_test,X_test.shape[1]*X_test.shape[2])\n",
    "print(\"X train flatten\",X_train_flatten.shape)\n",
    "print(\"X test flatten\",X_test_flatten.shape)\n",
    "\n",
    "# take the transpose to create column vectors as in z = b + w.t * x (betas are a horizontal vector)\n",
    "# In other words z = b + px1w1 + px2w2 + ... + px4096*w4096\n",
    "x_train = X_train_flatten.T\n",
    "x_test = X_test_flatten.T\n",
    "y_train = Y_train.T\n",
    "y_test = Y_test.T\n",
    "print(\"x train: \",x_train.shape)\n",
    "print(\"x test: \",x_test.shape)\n",
    "print(\"y train: \",y_train.shape)\n",
    "print(\"y test: \",y_test.shape)"
   ]
  },
  {
   "cell_type": "markdown",
   "metadata": {},
   "source": [
    "## Linear Logistic Regression - the easy way"
   ]
  },
  {
   "cell_type": "code",
   "execution_count": 5,
   "metadata": {},
   "outputs": [
    {
     "name": "stdout",
     "output_type": "stream",
     "text": [
      "test accuracy: 0.967741935483871 \n",
      "train accuracy: 1.0 \n"
     ]
    }
   ],
   "source": [
    "logreg = linear_model.LogisticRegression(random_state = 42,max_iter= 150)\n",
    "print(\"test accuracy: {} \".format(logreg.fit(x_train.T, y_train.T).score(x_test.T, y_test.T)))\n",
    "print(\"train accuracy: {} \".format(logreg.fit(x_train.T, y_train.T).score(x_train.T, y_train.T)))"
   ]
  },
  {
   "cell_type": "markdown",
   "metadata": {},
   "source": [
    "## Handcoded 1-layer Neural Network for Logistic Regression"
   ]
  },
  {
   "cell_type": "code",
   "execution_count": 6,
   "metadata": {},
   "outputs": [],
   "source": [
    "def sigmoid(z):\n",
    "    y_hat = 1/(1+np.exp(-z))\n",
    "    return(y_hat)\n",
    "\n",
    "def initialize_weights_and_bias(w, b, dim):\n",
    "    w = np.full((dim,1), w)\n",
    "    return w, b\n",
    "\n",
    "def forward(w, b, x_train):\n",
    "    z = np.dot(w.T,x_train) + b\n",
    "    y_hat = sigmoid(z) # probabilistic 0-1\n",
    "    return(y_hat)\n",
    "\n",
    "def loss_func(y_train, y_hat):\n",
    "    return(-y_train*np.log(y_hat)-(1-y_train)*np.log(1-y_hat))\n",
    "\n",
    "def cost_func(loss, x_train):\n",
    "    cost = (np.sum(loss))/x_train.shape[1]\n",
    "    return(cost)\n",
    "\n",
    "def back_prop(x_train, y_train, y_hat):\n",
    "    # these are the known partial derivative functions for the above loss function\n",
    "    d_weights = (np.dot(x_train,((y_hat-y_train).T)))/x_train.shape[1]\n",
    "    d_bias = np.sum(y_hat-y_train)/x_train.shape[1]                 \n",
    "    return(d_weights, d_bias)\n",
    "\n",
    "def grad_desc(w, b, d_weights, d_bias, learning_rate):\n",
    "    w = w - learning_rate * d_weights\n",
    "    b = b - learning_rate * d_bias\n",
    "    return(w, b)\n",
    "\n",
    "def predict(w, b, x):\n",
    "    y_hat = forward(w, b, x)\n",
    "    y_prediction = np.zeros((1,x.shape[1]))\n",
    "    # if z is bigger than 0.5, our prediction is sign one (y_hat=1),\n",
    "    # if z is smaller than 0.5, our prediction is sign zero (y_hat=0),\n",
    "    for i in range(y_hat.shape[1]):\n",
    "        if y_hat[0,i] <= 0.5:\n",
    "            y_prediction[0,i] = 0\n",
    "        else:\n",
    "            y_prediction[0,i] = 1\n",
    "\n",
    "    return y_prediction\n",
    "\n",
    "def simple_neural_logistic(init_w, init_b, x_train, y_train, learning_rate, n_iter):\n",
    "    cost_list = np.empty(n_iter)\n",
    "    w, b = initialize_weights_and_bias(init_w, init_b, x_train.shape[0])\n",
    "    for i in range(n_iter):\n",
    "        y_hat = forward(w, b, x_train)\n",
    "        loss = loss_func(y_train, y_hat)\n",
    "        cost = cost_func(loss, x_train)\n",
    "        cost_list[i] = cost\n",
    "        d_weights, d_bias = back_prop(x_train, y_train, y_hat)\n",
    "        w, b = grad_desc(w, b, d_weights, d_bias, learning_rate)\n",
    "        if i % 10 == 0:\n",
    "            print (\"Cost after iteration %i: %f\" %(i, cost))\n",
    "    parameters = {\"weight\": w,\"bias\": b}\n",
    "    plt.plot(cost_list)\n",
    "    plt.xlabel(\"Number of Iterarion\")\n",
    "    plt.ylabel(\"Cost\")\n",
    "    plt.show()\n",
    "    return w, b"
   ]
  },
  {
   "cell_type": "markdown",
   "metadata": {},
   "source": [
    "Here you can see what the core functions do"
   ]
  },
  {
   "cell_type": "code",
   "execution_count": 7,
   "metadata": {},
   "outputs": [],
   "source": [
    "# run once\n",
    "init_w = 0.01\n",
    "init_b = 0.0\n",
    "learning_rate = 0.01\n",
    "n_iter = 100\n",
    "\n",
    "w, b = initialize_weights_and_bias(init_w, init_b, x_train.shape[0])"
   ]
  },
  {
   "cell_type": "code",
   "execution_count": 8,
   "metadata": {},
   "outputs": [
    {
     "name": "stdout",
     "output_type": "stream",
     "text": [
      "-0.004942528735619787 [[0.00736184]\n",
      " [0.00730809]\n",
      " [0.00725907]\n",
      " [0.00720183]\n",
      " [0.00714165]\n",
      " [0.00709162]]\n",
      "0.4942528735619787 [[0.26381565]\n",
      " [0.2691909 ]\n",
      " [0.27409286]\n",
      " [0.27981745]\n",
      " [0.28583503]\n",
      " [0.29083842]]\n"
     ]
    }
   ],
   "source": [
    "# you can run this several times to see the values updating\n",
    "# especially the partial derivatives and the weights and bias\n",
    "y_hat = forward(w, b, x_train)\n",
    "loss = loss_func(y_train, y_hat)\n",
    "cost = cost_func(loss, x_train)\n",
    "d_weights, d_bias = back_prop(x_train, y_train, y_hat)\n",
    "w, b = grad_desc(w, b, d_weights, d_bias, learning_rate)\n",
    "\n",
    "print(b, w[0:6])\n",
    "print(d_bias, d_weights[0:6])"
   ]
  },
  {
   "cell_type": "markdown",
   "metadata": {},
   "source": [
    "Here the main function will run"
   ]
  },
  {
   "cell_type": "code",
   "execution_count": 9,
   "metadata": {
    "scrolled": false
   },
   "outputs": [
    {
     "name": "stdout",
     "output_type": "stream",
     "text": [
      "Cost after iteration 0: 14.014222\n",
      "Cost after iteration 10: 2.544689\n",
      "Cost after iteration 20: 2.577950\n",
      "Cost after iteration 30: 2.397999\n",
      "Cost after iteration 40: 2.185019\n",
      "Cost after iteration 50: 1.968348\n",
      "Cost after iteration 60: 1.754195\n",
      "Cost after iteration 70: 1.535079\n",
      "Cost after iteration 80: 1.297567\n",
      "Cost after iteration 90: 1.031919\n",
      "Cost after iteration 100: 0.737019\n",
      "Cost after iteration 110: 0.441355\n",
      "Cost after iteration 120: 0.252278\n",
      "Cost after iteration 130: 0.205168\n",
      "Cost after iteration 140: 0.196168\n",
      "Cost after iteration 150: 0.190936\n",
      "Cost after iteration 160: 0.186285\n",
      "Cost after iteration 170: 0.182006\n",
      "Cost after iteration 180: 0.178052\n",
      "Cost after iteration 190: 0.174389\n"
     ]
    },
    {
     "data": {
      "image/png": "[encoded data removed]",
      "text/plain": [
       "<Figure size 432x288 with 1 Axes>"
      ]
     },
     "metadata": {
      "needs_background": "light"
     },
     "output_type": "display_data"
    }
   ],
   "source": [
    "w, b = simple_neural_logistic(0.01, 0.0, x_train, y_train, 0.01, 200)"
   ]
  },
  {
   "cell_type": "code",
   "execution_count": 10,
   "metadata": {},
   "outputs": [
    {
     "name": "stdout",
     "output_type": "stream",
     "text": [
      "train accuracy: 93.67816091954023 %\n",
      "test accuracy: 95.16129032258064 %\n"
     ]
    }
   ],
   "source": [
    "y_prediction_train = predict(w, b, x_train)\n",
    "y_prediction_test = predict(w, b, x_test)\n",
    "# Print train/test Errors\n",
    "print(\"train accuracy: {} %\".format(100 - np.mean(np.abs(y_prediction_train - y_train)) * 100))\n",
    "print(\"test accuracy: {} %\".format(100 - np.mean(np.abs(y_prediction_test - y_test)) * 100))"
   ]
  },
  {
   "cell_type": "markdown",
   "metadata": {},
   "source": [
    "now try with two layers"
   ]
  },
  {
   "cell_type": "code",
   "execution_count": 153,
   "metadata": {},
   "outputs": [],
   "source": [
    "import numpy as np # linear algebra\n",
    "import pandas as pd # data processing, CSV file I/O (e.g. pd.read_csv)\n",
    "import matplotlib.pyplot as plt\n",
    "from sklearn.model_selection import train_test_split\n",
    "from sklearn import linear_model\n",
    "\n",
    "import warnings\n",
    "warnings.filterwarnings('ignore')\n",
    "\n",
    "def sigmoid(x):\n",
    "    return(1/(1+np.exp(-x)))\n",
    "    \n",
    "def sigmoid_backward(y, y_hat, x):\n",
    "    diff = y_hat - y\n",
    "    dw = np.dot(diff, x)/y.shape[1]\n",
    "    db = np.sum(diff, axis=1, keepdims=True)\n",
    "    return({'dw' : dw, 'db' : db})\n",
    "    \n",
    "def cost(self, y_hat, y):\n",
    "    -np.sum(np.multiply(np.log(y_hat), y))/y.shape[1]\n",
    "\n",
    "class nn(object):\n",
    "    def __init__(self):\n",
    "        self.layers = {}\n",
    "        self.cache = {}\n",
    "        \n",
    "    def add_layers(self, in_dim, out_dim):\n",
    "        layer_to_add = len(self.layers.keys())\n",
    "        self.layers.update({layer_to_add : {'weights': np.random.randn(out_dim, in_dim) * 0.1,\n",
    "                                           'bias' : np.zeros((out_dim, 1))}})\n",
    "        \n",
    "    def add_to_layer(self, layer, k, v):\n",
    "        self.layers[layer].update({k : v})\n",
    "        \n",
    "    def update_wb_for_layer(self, layer, gradients, learning_rate = 0.01):\n",
    "        ly = self.layers[layer]\n",
    "        ly.update({'weights' : ly['weights'] - gradients['dw'] * learning_rate,\n",
    "                   'bias' : ly['bias'] - gradients['db'] * learning_rate})\n",
    "        \n",
    "    def forward_prop(self, x_train):\n",
    "        x = x_train\n",
    "        for l in layers.keys():\n",
    "            ly = self.layers[l]\n",
    "            x = ly['forward'](ly['bias'], ly['weights'], x)\n",
    "            self.cache.update({l : x})\n",
    "    \n",
    "    def back_prop(self, y_train, learning_rate = 0.01):\n",
    "        y = y_train\n",
    "        ly = max(layers.keys())\n",
    "        while ly > 0:\n",
    "            self.add_to_layer(ly,\n",
    "                              'gradients',\n",
    "                              self.layers[ly]['backward'](y, model.cache[ly], model.cache[ly-1].T))\n",
    "            ly = ly - 1\n",
    "        \n",
    "        # back prop for tan layer\n",
    "        self.add_to_layer(0, 'gradients', {'dw': [0], 'db' : [0]})\n",
    "            \n",
    "        for l in layers.keys():\n",
    "            self.update_wb_for_layer(l, self.layers[l]['gradients'])\n",
    "\n",
    "            \n",
    "            \n",
    "            \n",
    "            \n",
    "model = nn()\n",
    "model.add_layers(x_train.shape[0], 3)\n",
    "model.add_layers(3, y_train.shape[0])\n",
    "\n",
    "model.add_to_layer(0, 'forward', lambda b, w, x : np.tanh(np.dot(w, x) + b))\n",
    "model.add_to_layer(1, 'forward', lambda b, w, x : sigmoid(np.dot(w, x) + b))\n",
    "model.add_to_layer(1, 'backward', sigmoid_backward)\n",
    "\n",
    "def tanh_backward(y, y_hat, x, z): #w (needs x.T) weights from previous (higher number layer)\n",
    "    # diff is out from higher number layer\n",
    "    # z is the output from current layer\n",
    "    diff_outer = y_hat - y\n",
    "    diff_inner = np.dot(x, diff) * (1 - np.power(z, 2))\n",
    "    dw = np.dot(diff_inner, x)/y.shape[1]\n",
    "    db = np.sum(diff, axis=1, keepdims=True)\n",
    "    return({'dw' : dw, 'db' : db})\n",
    "\n",
    "    dZ1 = np.dot(parameters[\"weight2\"].T,dZ2)*(1 - np.power(cache[\"A1\"], 2))\n",
    "    dW1 = np.dot(dZ1,X.T)/X.shape[1]\n",
    "    db1 = np.sum(dZ1,axis =1,keepdims=True)/X.shape[1]"
   ]
  },
  {
   "cell_type": "code",
   "execution_count": 154,
   "metadata": {},
   "outputs": [],
   "source": [
    "model.forward_prop(x_train)"
   ]
  },
  {
   "cell_type": "code",
   "execution_count": 155,
   "metadata": {},
   "outputs": [
    {
     "data": {
      "text/plain": [
       "{'dw': array([[ 0.01002701,  0.0833413 , -0.01002888]]),\n",
       " 'db': array([[-3.49050122]])}"
      ]
     },
     "execution_count": 155,
     "metadata": {},
     "output_type": "execute_result"
    }
   ],
   "source": [
    "model.layers[1]['backward'](y_train, model.cache[1], model.cache[0].T)"
   ]
  },
  {
   "cell_type": "code",
   "execution_count": 156,
   "metadata": {
    "scrolled": false
   },
   "outputs": [
    {
     "name": "stdout",
     "output_type": "stream",
     "text": [
      "[[-0.12224436 -0.0064641  -0.14207065]]\n",
      "[[0.]]\n",
      "0.01\n",
      "[[ 0.01002701  0.0833413  -0.01002888]]\n",
      "[[-3.49050122]]\n",
      "[[-0.12234463 -0.00729751 -0.14197037]]\n",
      "[[0.03490501]]\n",
      "0.01\n",
      "[[ 0.01002701  0.0833413  -0.01002888]]\n",
      "[[-3.49050122]]\n"
     ]
    }
   ],
   "source": [
    "model.back_prop(y_train)"
   ]
  },
  {
   "cell_type": "code",
   "execution_count": 144,
   "metadata": {},
   "outputs": [
    {
     "data": {
      "text/plain": [
       "{'weights': array([[ 0.05835643,  0.04373888, -0.05093386]]),\n",
       " 'bias': array([[0.]]),\n",
       " 'forward': <function __main__.<lambda>(b, w, x)>,\n",
       " 'backward': <function __main__.sigmoid_backward(y, y_hat, x)>,\n",
       " 'gradients': {'dw': array([[ 0.04002687,  0.00854297, -0.04476222]]),\n",
       "  'db': array([[-13.9293486]])}}"
      ]
     },
     "execution_count": 144,
     "metadata": {},
     "output_type": "execute_result"
    }
   ],
   "source": [
    "model.layers[1]"
   ]
  },
  {
   "cell_type": "code",
   "execution_count": null,
   "metadata": {},
   "outputs": [],
   "source": []
  }
 ],
 "metadata": {
  "kernelspec": {
   "display_name": "Python 3",
   "language": "python",
   "name": "python3"
  },
  "language_info": {
   "codemirror_mode": {
    "name": "ipython",
    "version": 3
   },
   "file_extension": ".py",
   "mimetype": "text/x-python",
   "name": "python",
   "nbconvert_exporter": "python",
   "pygments_lexer": "ipython3",
   "version": "3.6.7"
  }
 },
 "nbformat": 4,
 "nbformat_minor": 2
}
